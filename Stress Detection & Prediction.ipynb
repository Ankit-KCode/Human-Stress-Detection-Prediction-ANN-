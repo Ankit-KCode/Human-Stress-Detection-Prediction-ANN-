{
 "cells": [
  {
   "cell_type": "markdown",
   "metadata": {},
   "source": [
    "### Importing Libraries"
   ]
  },
  {
   "cell_type": "code",
   "execution_count": 3,
   "metadata": {},
   "outputs": [],
   "source": [
    "import numpy as np\n",
    "import pandas as pd\n",
    "import matplotlib.pyplot as plt\n",
    "import seaborn as sns"
   ]
  },
  {
   "cell_type": "markdown",
   "metadata": {},
   "source": [
    "### Loading Dataset"
   ]
  },
  {
   "cell_type": "code",
   "execution_count": 4,
   "metadata": {},
   "outputs": [
    {
     "data": {
      "text/html": [
       "<div>\n",
       "<style scoped>\n",
       "    .dataframe tbody tr th:only-of-type {\n",
       "        vertical-align: middle;\n",
       "    }\n",
       "\n",
       "    .dataframe tbody tr th {\n",
       "        vertical-align: top;\n",
       "    }\n",
       "\n",
       "    .dataframe thead th {\n",
       "        text-align: right;\n",
       "    }\n",
       "</style>\n",
       "<table border=\"1\" class=\"dataframe\">\n",
       "  <thead>\n",
       "    <tr style=\"text-align: right;\">\n",
       "      <th></th>\n",
       "      <th>Snoring R</th>\n",
       "      <th>Respiration R</th>\n",
       "      <th>Temp</th>\n",
       "      <th>Limb M</th>\n",
       "      <th>Blood Oxy</th>\n",
       "      <th>Eye M</th>\n",
       "      <th>Sleep H</th>\n",
       "      <th>Heart R</th>\n",
       "      <th>Stress L</th>\n",
       "    </tr>\n",
       "  </thead>\n",
       "  <tbody>\n",
       "    <tr>\n",
       "      <th>0</th>\n",
       "      <td>93.80</td>\n",
       "      <td>25.680</td>\n",
       "      <td>91.840</td>\n",
       "      <td>16.600</td>\n",
       "      <td>89.840</td>\n",
       "      <td>99.60</td>\n",
       "      <td>1.840</td>\n",
       "      <td>74.20</td>\n",
       "      <td>3</td>\n",
       "    </tr>\n",
       "    <tr>\n",
       "      <th>1</th>\n",
       "      <td>91.64</td>\n",
       "      <td>25.104</td>\n",
       "      <td>91.552</td>\n",
       "      <td>15.880</td>\n",
       "      <td>89.552</td>\n",
       "      <td>98.88</td>\n",
       "      <td>1.552</td>\n",
       "      <td>72.76</td>\n",
       "      <td>3</td>\n",
       "    </tr>\n",
       "    <tr>\n",
       "      <th>2</th>\n",
       "      <td>60.00</td>\n",
       "      <td>20.000</td>\n",
       "      <td>96.000</td>\n",
       "      <td>10.000</td>\n",
       "      <td>95.000</td>\n",
       "      <td>85.00</td>\n",
       "      <td>7.000</td>\n",
       "      <td>60.00</td>\n",
       "      <td>1</td>\n",
       "    </tr>\n",
       "    <tr>\n",
       "      <th>3</th>\n",
       "      <td>85.76</td>\n",
       "      <td>23.536</td>\n",
       "      <td>90.768</td>\n",
       "      <td>13.920</td>\n",
       "      <td>88.768</td>\n",
       "      <td>96.92</td>\n",
       "      <td>0.768</td>\n",
       "      <td>68.84</td>\n",
       "      <td>3</td>\n",
       "    </tr>\n",
       "    <tr>\n",
       "      <th>4</th>\n",
       "      <td>48.12</td>\n",
       "      <td>17.248</td>\n",
       "      <td>97.872</td>\n",
       "      <td>6.496</td>\n",
       "      <td>96.248</td>\n",
       "      <td>72.48</td>\n",
       "      <td>8.248</td>\n",
       "      <td>53.12</td>\n",
       "      <td>0</td>\n",
       "    </tr>\n",
       "    <tr>\n",
       "      <th>5</th>\n",
       "      <td>56.88</td>\n",
       "      <td>19.376</td>\n",
       "      <td>95.376</td>\n",
       "      <td>9.376</td>\n",
       "      <td>94.064</td>\n",
       "      <td>83.44</td>\n",
       "      <td>6.376</td>\n",
       "      <td>58.44</td>\n",
       "      <td>1</td>\n",
       "    </tr>\n",
       "    <tr>\n",
       "      <th>6</th>\n",
       "      <td>47.00</td>\n",
       "      <td>16.800</td>\n",
       "      <td>97.200</td>\n",
       "      <td>5.600</td>\n",
       "      <td>95.800</td>\n",
       "      <td>68.00</td>\n",
       "      <td>7.800</td>\n",
       "      <td>52.00</td>\n",
       "      <td>0</td>\n",
       "    </tr>\n",
       "    <tr>\n",
       "      <th>7</th>\n",
       "      <td>50.00</td>\n",
       "      <td>18.000</td>\n",
       "      <td>99.000</td>\n",
       "      <td>8.000</td>\n",
       "      <td>97.000</td>\n",
       "      <td>80.00</td>\n",
       "      <td>9.000</td>\n",
       "      <td>55.00</td>\n",
       "      <td>0</td>\n",
       "    </tr>\n",
       "    <tr>\n",
       "      <th>8</th>\n",
       "      <td>45.28</td>\n",
       "      <td>16.112</td>\n",
       "      <td>96.168</td>\n",
       "      <td>4.224</td>\n",
       "      <td>95.112</td>\n",
       "      <td>61.12</td>\n",
       "      <td>7.112</td>\n",
       "      <td>50.28</td>\n",
       "      <td>0</td>\n",
       "    </tr>\n",
       "    <tr>\n",
       "      <th>9</th>\n",
       "      <td>55.52</td>\n",
       "      <td>19.104</td>\n",
       "      <td>95.104</td>\n",
       "      <td>9.104</td>\n",
       "      <td>93.656</td>\n",
       "      <td>82.76</td>\n",
       "      <td>6.104</td>\n",
       "      <td>57.76</td>\n",
       "      <td>1</td>\n",
       "    </tr>\n",
       "  </tbody>\n",
       "</table>\n",
       "</div>"
      ],
      "text/plain": [
       "   Snoring R  Respiration R    Temp  Limb M  Blood Oxy  Eye M  Sleep H  \\\n",
       "0      93.80         25.680  91.840  16.600     89.840  99.60    1.840   \n",
       "1      91.64         25.104  91.552  15.880     89.552  98.88    1.552   \n",
       "2      60.00         20.000  96.000  10.000     95.000  85.00    7.000   \n",
       "3      85.76         23.536  90.768  13.920     88.768  96.92    0.768   \n",
       "4      48.12         17.248  97.872   6.496     96.248  72.48    8.248   \n",
       "5      56.88         19.376  95.376   9.376     94.064  83.44    6.376   \n",
       "6      47.00         16.800  97.200   5.600     95.800  68.00    7.800   \n",
       "7      50.00         18.000  99.000   8.000     97.000  80.00    9.000   \n",
       "8      45.28         16.112  96.168   4.224     95.112  61.12    7.112   \n",
       "9      55.52         19.104  95.104   9.104     93.656  82.76    6.104   \n",
       "\n",
       "   Heart R  Stress L  \n",
       "0    74.20         3  \n",
       "1    72.76         3  \n",
       "2    60.00         1  \n",
       "3    68.84         3  \n",
       "4    53.12         0  \n",
       "5    58.44         1  \n",
       "6    52.00         0  \n",
       "7    55.00         0  \n",
       "8    50.28         0  \n",
       "9    57.76         1  "
      ]
     },
     "execution_count": 4,
     "metadata": {},
     "output_type": "execute_result"
    }
   ],
   "source": [
    "df = pd.read_csv(\"D:/Ankit-KCode/Human Stress Detection and Prediction/Human Stress Factors Dataset.csv\")\n",
    "df.head(10)"
   ]
  },
  {
   "cell_type": "code",
   "execution_count": 5,
   "metadata": {},
   "outputs": [
    {
     "data": {
      "text/plain": [
       "(630, 9)"
      ]
     },
     "execution_count": 5,
     "metadata": {},
     "output_type": "execute_result"
    }
   ],
   "source": [
    "df.shape"
   ]
  },
  {
   "cell_type": "markdown",
   "metadata": {},
   "source": [
    "### Data Preprocessing"
   ]
  },
  {
   "cell_type": "markdown",
   "metadata": {},
   "source": [
    "##### Basic Insights Of Dataset"
   ]
  },
  {
   "cell_type": "code",
   "execution_count": 7,
   "metadata": {},
   "outputs": [
    {
     "data": {
      "text/plain": [
       "Snoring R        float64\n",
       "Respiration R    float64\n",
       "Temp             float64\n",
       "Limb M           float64\n",
       "Blood Oxy        float64\n",
       "Eye M            float64\n",
       "Sleep H          float64\n",
       "Heart R          float64\n",
       "Stress L           int64\n",
       "dtype: object"
      ]
     },
     "execution_count": 7,
     "metadata": {},
     "output_type": "execute_result"
    }
   ],
   "source": [
    "# Data Type info of Colums\n",
    "df.dtypes"
   ]
  },
  {
   "cell_type": "code",
   "execution_count": 9,
   "metadata": {},
   "outputs": [
    {
     "data": {
      "text/html": [
       "<div>\n",
       "<style scoped>\n",
       "    .dataframe tbody tr th:only-of-type {\n",
       "        vertical-align: middle;\n",
       "    }\n",
       "\n",
       "    .dataframe tbody tr th {\n",
       "        vertical-align: top;\n",
       "    }\n",
       "\n",
       "    .dataframe thead th {\n",
       "        text-align: right;\n",
       "    }\n",
       "</style>\n",
       "<table border=\"1\" class=\"dataframe\">\n",
       "  <thead>\n",
       "    <tr style=\"text-align: right;\">\n",
       "      <th></th>\n",
       "      <th>Snoring R</th>\n",
       "      <th>Respiration R</th>\n",
       "      <th>Temp</th>\n",
       "      <th>Limb M</th>\n",
       "      <th>Blood Oxy</th>\n",
       "      <th>Eye M</th>\n",
       "      <th>Sleep H</th>\n",
       "      <th>Heart R</th>\n",
       "      <th>Stress L</th>\n",
       "    </tr>\n",
       "  </thead>\n",
       "  <tbody>\n",
       "    <tr>\n",
       "      <th>count</th>\n",
       "      <td>630.000000</td>\n",
       "      <td>630.000000</td>\n",
       "      <td>630.00000</td>\n",
       "      <td>630.000000</td>\n",
       "      <td>630.000000</td>\n",
       "      <td>630.000000</td>\n",
       "      <td>630.000000</td>\n",
       "      <td>630.000000</td>\n",
       "      <td>630.000000</td>\n",
       "    </tr>\n",
       "    <tr>\n",
       "      <th>mean</th>\n",
       "      <td>71.600000</td>\n",
       "      <td>21.800000</td>\n",
       "      <td>92.80000</td>\n",
       "      <td>11.700000</td>\n",
       "      <td>90.900000</td>\n",
       "      <td>88.500000</td>\n",
       "      <td>3.700000</td>\n",
       "      <td>64.500000</td>\n",
       "      <td>2.000000</td>\n",
       "    </tr>\n",
       "    <tr>\n",
       "      <th>std</th>\n",
       "      <td>19.372833</td>\n",
       "      <td>3.966111</td>\n",
       "      <td>3.52969</td>\n",
       "      <td>4.299629</td>\n",
       "      <td>3.902483</td>\n",
       "      <td>11.893747</td>\n",
       "      <td>3.054572</td>\n",
       "      <td>9.915277</td>\n",
       "      <td>1.415337</td>\n",
       "    </tr>\n",
       "    <tr>\n",
       "      <th>min</th>\n",
       "      <td>45.000000</td>\n",
       "      <td>16.000000</td>\n",
       "      <td>85.00000</td>\n",
       "      <td>4.000000</td>\n",
       "      <td>82.000000</td>\n",
       "      <td>60.000000</td>\n",
       "      <td>0.000000</td>\n",
       "      <td>50.000000</td>\n",
       "      <td>0.000000</td>\n",
       "    </tr>\n",
       "    <tr>\n",
       "      <th>25%</th>\n",
       "      <td>52.500000</td>\n",
       "      <td>18.500000</td>\n",
       "      <td>90.50000</td>\n",
       "      <td>8.500000</td>\n",
       "      <td>88.500000</td>\n",
       "      <td>81.250000</td>\n",
       "      <td>0.500000</td>\n",
       "      <td>56.250000</td>\n",
       "      <td>1.000000</td>\n",
       "    </tr>\n",
       "    <tr>\n",
       "      <th>50%</th>\n",
       "      <td>70.000000</td>\n",
       "      <td>21.000000</td>\n",
       "      <td>93.00000</td>\n",
       "      <td>11.000000</td>\n",
       "      <td>91.000000</td>\n",
       "      <td>90.000000</td>\n",
       "      <td>3.500000</td>\n",
       "      <td>62.500000</td>\n",
       "      <td>2.000000</td>\n",
       "    </tr>\n",
       "    <tr>\n",
       "      <th>75%</th>\n",
       "      <td>91.250000</td>\n",
       "      <td>25.000000</td>\n",
       "      <td>95.50000</td>\n",
       "      <td>15.750000</td>\n",
       "      <td>94.250000</td>\n",
       "      <td>98.750000</td>\n",
       "      <td>6.500000</td>\n",
       "      <td>72.500000</td>\n",
       "      <td>3.000000</td>\n",
       "    </tr>\n",
       "    <tr>\n",
       "      <th>max</th>\n",
       "      <td>100.000000</td>\n",
       "      <td>30.000000</td>\n",
       "      <td>99.00000</td>\n",
       "      <td>19.000000</td>\n",
       "      <td>97.000000</td>\n",
       "      <td>105.000000</td>\n",
       "      <td>9.000000</td>\n",
       "      <td>85.000000</td>\n",
       "      <td>4.000000</td>\n",
       "    </tr>\n",
       "  </tbody>\n",
       "</table>\n",
       "</div>"
      ],
      "text/plain": [
       "        Snoring R  Respiration R       Temp      Limb M   Blood Oxy  \\\n",
       "count  630.000000     630.000000  630.00000  630.000000  630.000000   \n",
       "mean    71.600000      21.800000   92.80000   11.700000   90.900000   \n",
       "std     19.372833       3.966111    3.52969    4.299629    3.902483   \n",
       "min     45.000000      16.000000   85.00000    4.000000   82.000000   \n",
       "25%     52.500000      18.500000   90.50000    8.500000   88.500000   \n",
       "50%     70.000000      21.000000   93.00000   11.000000   91.000000   \n",
       "75%     91.250000      25.000000   95.50000   15.750000   94.250000   \n",
       "max    100.000000      30.000000   99.00000   19.000000   97.000000   \n",
       "\n",
       "            Eye M     Sleep H     Heart R    Stress L  \n",
       "count  630.000000  630.000000  630.000000  630.000000  \n",
       "mean    88.500000    3.700000   64.500000    2.000000  \n",
       "std     11.893747    3.054572    9.915277    1.415337  \n",
       "min     60.000000    0.000000   50.000000    0.000000  \n",
       "25%     81.250000    0.500000   56.250000    1.000000  \n",
       "50%     90.000000    3.500000   62.500000    2.000000  \n",
       "75%     98.750000    6.500000   72.500000    3.000000  \n",
       "max    105.000000    9.000000   85.000000    4.000000  "
      ]
     },
     "execution_count": 9,
     "metadata": {},
     "output_type": "execute_result"
    }
   ],
   "source": [
    "# Statistical Summary of Dataset\n",
    "df.describe()"
   ]
  },
  {
   "cell_type": "code",
   "execution_count": 10,
   "metadata": {},
   "outputs": [
    {
     "name": "stdout",
     "output_type": "stream",
     "text": [
      "<class 'pandas.core.frame.DataFrame'>\n",
      "RangeIndex: 630 entries, 0 to 629\n",
      "Data columns (total 9 columns):\n",
      " #   Column         Non-Null Count  Dtype  \n",
      "---  ------         --------------  -----  \n",
      " 0   Snoring R      630 non-null    float64\n",
      " 1   Respiration R  630 non-null    float64\n",
      " 2   Temp           630 non-null    float64\n",
      " 3   Limb M         630 non-null    float64\n",
      " 4   Blood Oxy      630 non-null    float64\n",
      " 5   Eye M          630 non-null    float64\n",
      " 6   Sleep H        630 non-null    float64\n",
      " 7   Heart R        630 non-null    float64\n",
      " 8   Stress L       630 non-null    int64  \n",
      "dtypes: float64(8), int64(1)\n",
      "memory usage: 44.4 KB\n"
     ]
    }
   ],
   "source": [
    "df.info()"
   ]
  },
  {
   "cell_type": "markdown",
   "metadata": {},
   "source": [
    "<h8>There is no Null Value.</h8>"
   ]
  },
  {
   "cell_type": "code",
   "execution_count": 28,
   "metadata": {},
   "outputs": [
    {
     "data": {
      "text/plain": [
       "Stress L\n",
       "3    126\n",
       "1    126\n",
       "0    126\n",
       "2    126\n",
       "4    126\n",
       "Name: count, dtype: int64"
      ]
     },
     "execution_count": 28,
     "metadata": {},
     "output_type": "execute_result"
    }
   ],
   "source": [
    "# Checking Distribution of Target Variable\n",
    "df['Stress L'].value_counts()"
   ]
  }
 ],
 "metadata": {
  "kernelspec": {
   "display_name": "Python 3",
   "language": "python",
   "name": "python3"
  },
  "language_info": {
   "codemirror_mode": {
    "name": "ipython",
    "version": 3
   },
   "file_extension": ".py",
   "mimetype": "text/x-python",
   "name": "python",
   "nbconvert_exporter": "python",
   "pygments_lexer": "ipython3",
   "version": "3.12.2"
  }
 },
 "nbformat": 4,
 "nbformat_minor": 2
}
